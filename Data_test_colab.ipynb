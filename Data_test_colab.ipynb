{
  "nbformat": 4,
  "nbformat_minor": 0,
  "metadata": {
    "colab": {
      "provenance": [],
      "authorship_tag": "ABX9TyMNKxjZOWa7eMUHXRVT/vZL",
      "include_colab_link": true
    },
    "kernelspec": {
      "name": "python3",
      "display_name": "Python 3"
    },
    "language_info": {
      "name": "python"
    }
  },
  "cells": [
    {
      "cell_type": "markdown",
      "metadata": {
        "id": "view-in-github",
        "colab_type": "text"
      },
      "source": [
        "<a href=\"https://colab.research.google.com/github/shiyaamsunder/bda/blob/MD5zee/Data_test_colab.ipynb\" target=\"_parent\"><img src=\"https://colab.research.google.com/assets/colab-badge.svg\" alt=\"Open In Colab\"/></a>"
      ]
    },
    {
      "cell_type": "code",
      "execution_count": 4,
      "metadata": {
        "colab": {
          "base_uri": "https://localhost:8080/"
        },
        "id": "oJWa08cIReAr",
        "outputId": "7495e2eb-bc04-4f71-8710-2a1ab27f4c13"
      },
      "outputs": [
        {
          "output_type": "stream",
          "name": "stdout",
          "text": [
            "      State Code                Area Name Total/ Rural/Urban   Disability  \\\n",
            "0              0                    INDIA              Total        Total   \n",
            "1              0                    INDIA              Total        Total   \n",
            "2              0                    INDIA              Total        Total   \n",
            "3              0                    INDIA              Total        Total   \n",
            "4              0                    INDIA              Total        Total   \n",
            "...          ...                      ...                ...          ...   \n",
            "4557          33  State - TAMIL NADU (33)              Urban   In-Hearing   \n",
            "4565          33  State - TAMIL NADU (33)              Urban  In-Movement   \n",
            "4567          33  State - TAMIL NADU (33)              Urban  In-Movement   \n",
            "4580          33  State - TAMIL NADU (33)              Urban    Any-Other   \n",
            "4582          33  State - TAMIL NADU (33)              Urban    Any-Other   \n",
            "\n",
            "           Age-group  Total disabled population - Persons  \\\n",
            "0              Total                             26814994   \n",
            "1               0-14                              5572336   \n",
            "2              15-59                             15728243   \n",
            "3                60+                              5376619   \n",
            "4     Age not stated                               137796   \n",
            "...              ...                                  ...   \n",
            "4557           15-59                                73283   \n",
            "4565           Total                               128617   \n",
            "4567           15-59                                97337   \n",
            "4580           Total                               124548   \n",
            "4582           15-59                                86973   \n",
            "\n",
            "      Total disabled population - Males  Total disabled population - Females  \\\n",
            "0                              14988593                             11826401   \n",
            "1                               3073214                              2499122   \n",
            "2                               9125226                              6603017   \n",
            "3                               2713995                              2662624   \n",
            "4                                 76158                                61638   \n",
            "...                                 ...                                  ...   \n",
            "4557                              36389                                36894   \n",
            "4565                              79234                                49383   \n",
            "4567                              59771                                37566   \n",
            "4580                              68062                                56486   \n",
            "4582                              47644                                39329   \n",
            "\n",
            "      Main worker - Persons  Main worker - Males  Main worker - Females  \\\n",
            "0                   6982009              5464857                1517152   \n",
            "1                    100779                61870                  38909   \n",
            "2                   5808809              4559220                1249589   \n",
            "3                   1036384               816764                 219620   \n",
            "4                     36037                27003                   9034   \n",
            "...                     ...                  ...                    ...   \n",
            "4557                  32500                24023                   8477   \n",
            "4565                  48840                39343                   9497   \n",
            "4567                  44728                35870                   8858   \n",
            "4580                  42713                32296                  10417   \n",
            "4582                  38320                29029                   9291   \n",
            "\n",
            "      Non-worker - Persons  Non-worker - Males  Non-worker - Females  \n",
            "0                 17070608             7915768               9154840  \n",
            "1                  5344297             2942702               2401595  \n",
            "2                  7785245             3317990               4467255  \n",
            "3                  3854887             1614909               2239978  \n",
            "4                    86179               40167                 46012  \n",
            "...                    ...                 ...                   ...  \n",
            "4557                 34703                8980                 25723  \n",
            "4565                 74132               35871                 38261  \n",
            "4567                 47652               20386                 27266  \n",
            "4580                 72894               30423                 42471  \n",
            "4582                 41210               14168                 27042  \n",
            "\n",
            "[723 rows x 14 columns]\n"
          ]
        }
      ],
      "source": [
        "import pandas as pd\n",
        "import seaborn as sns\n",
        "import matplotlib.pyplot as plt\n",
        "\n",
        "df = pd.read_csv('/content/1_india_disability.csv')\n",
        "\n",
        "# Box plot\n",
        "plt.figure(figsize=(10, 6))\n",
        "sns.boxplot(data=df[['Total disabled population - Persons']])\n",
        "plt.title('Box Plot of Total Disabled Population')\n",
        "plt.show()\n",
        "\n",
        "# Z-Score\n",
        "from scipy.stats import zscore\n",
        "z_scores = zscore(df[['Total disabled population - Persons']])\n",
        "threshold = 3\n",
        "outliers = (abs(z_scores) > threshold).all(axis=1)\n",
        "outlier_data = df[outliers]\n",
        "#print(outlier_data)\n",
        "\n",
        "# IQR Method\n",
        "Q1 = df[['Total disabled population - Persons']].quantile(0.25)\n",
        "Q3 = df[['Total disabled population - Persons']].quantile(0.75)\n",
        "IQR = Q3 - Q1\n",
        "outliers_iqr = ((df[['Total disabled population - Persons']] < (Q1 - 1.5 * IQR)) | (df[['Total disabled population - Persons']] > (Q3 + 1.5 * IQR))).any(axis=1)\n",
        "outlier_data_iqr = df[outliers_iqr]\n",
        "\n"
      ]
    }
  ]
}