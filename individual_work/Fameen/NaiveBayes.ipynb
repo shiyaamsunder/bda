{
 "cells": [
  {
   "cell_type": "code",
   "execution_count": 5,
   "id": "0caf5835",
   "metadata": {},
   "outputs": [],
   "source": [
    "import pandas as pd\n",
    "import numpy as np\n",
    "import matplotlib.pyplot as plt\n",
    "from sklearn.metrics import confusion_matrix\n"
   ]
  },
  {
   "cell_type": "code",
   "execution_count": null,
   "id": "1b5004ae",
   "metadata": {},
   "outputs": [],
   "source": []
  },
  {
   "cell_type": "code",
   "execution_count": 3,
   "id": "cca429e3",
   "metadata": {},
   "outputs": [
    {
     "data": {
      "text/html": [
       "<div>\n",
       "<style scoped>\n",
       "    .dataframe tbody tr th:only-of-type {\n",
       "        vertical-align: middle;\n",
       "    }\n",
       "\n",
       "    .dataframe tbody tr th {\n",
       "        vertical-align: top;\n",
       "    }\n",
       "\n",
       "    .dataframe thead th {\n",
       "        text-align: right;\n",
       "    }\n",
       "</style>\n",
       "<table border=\"1\" class=\"dataframe\">\n",
       "  <thead>\n",
       "    <tr style=\"text-align: right;\">\n",
       "      <th></th>\n",
       "      <th>state_name</th>\n",
       "      <th>district_name</th>\n",
       "      <th>disability_type</th>\n",
       "      <th>age_lower</th>\n",
       "      <th>age_upper</th>\n",
       "      <th>Male_count</th>\n",
       "      <th>female_count</th>\n",
       "      <th>total</th>\n",
       "    </tr>\n",
       "  </thead>\n",
       "  <tbody>\n",
       "    <tr>\n",
       "      <th>0</th>\n",
       "      <td>Maharashtra</td>\n",
       "      <td>Yavatmal</td>\n",
       "      <td>Acid Attack Victim</td>\n",
       "      <td>35</td>\n",
       "      <td>60</td>\n",
       "      <td>1</td>\n",
       "      <td>0</td>\n",
       "      <td>1</td>\n",
       "    </tr>\n",
       "    <tr>\n",
       "      <th>1</th>\n",
       "      <td>Maharashtra</td>\n",
       "      <td>Yavatmal</td>\n",
       "      <td>Acid Attack Victim</td>\n",
       "      <td>60</td>\n",
       "      <td>80</td>\n",
       "      <td>0</td>\n",
       "      <td>1</td>\n",
       "      <td>1</td>\n",
       "    </tr>\n",
       "    <tr>\n",
       "      <th>2</th>\n",
       "      <td>Haryana</td>\n",
       "      <td>Yamunanagar</td>\n",
       "      <td>Acid Attack Victim</td>\n",
       "      <td>15</td>\n",
       "      <td>35</td>\n",
       "      <td>1</td>\n",
       "      <td>0</td>\n",
       "      <td>1</td>\n",
       "    </tr>\n",
       "    <tr>\n",
       "      <th>3</th>\n",
       "      <td>Haryana</td>\n",
       "      <td>Yamunanagar</td>\n",
       "      <td>Acid Attack Victim</td>\n",
       "      <td>35</td>\n",
       "      <td>60</td>\n",
       "      <td>4</td>\n",
       "      <td>0</td>\n",
       "      <td>4</td>\n",
       "    </tr>\n",
       "    <tr>\n",
       "      <th>4</th>\n",
       "      <td>Karnataka</td>\n",
       "      <td>Yadgir</td>\n",
       "      <td>Acid Attack Victim</td>\n",
       "      <td>15</td>\n",
       "      <td>35</td>\n",
       "      <td>5</td>\n",
       "      <td>8</td>\n",
       "      <td>13</td>\n",
       "    </tr>\n",
       "  </tbody>\n",
       "</table>\n",
       "</div>"
      ],
      "text/plain": [
       "    state_name district_name     disability_type  age_lower  age_upper  \\\n",
       "0  Maharashtra      Yavatmal  Acid Attack Victim         35         60   \n",
       "1  Maharashtra      Yavatmal  Acid Attack Victim         60         80   \n",
       "2      Haryana   Yamunanagar  Acid Attack Victim         15         35   \n",
       "3      Haryana   Yamunanagar  Acid Attack Victim         35         60   \n",
       "4    Karnataka        Yadgir  Acid Attack Victim         15         35   \n",
       "\n",
       "   Male_count  female_count  total  \n",
       "0           1             0      1  \n",
       "1           0             1      1  \n",
       "2           1             0      1  \n",
       "3           4             0      4  \n",
       "4           5             8     13  "
      ]
     },
     "execution_count": 3,
     "metadata": {},
     "output_type": "execute_result"
    }
   ],
   "source": [
    "udiddata = pd.read_csv(r\"UDIDDATA_change.csv\")\n",
    "udiddata.head()"
   ]
  },
  {
   "cell_type": "code",
   "execution_count": 4,
   "id": "cb7175b8",
   "metadata": {},
   "outputs": [
    {
     "name": "stdout",
     "output_type": "stream",
     "text": [
      "<class 'pandas.core.frame.DataFrame'>\n",
      "RangeIndex: 52946 entries, 0 to 52945\n",
      "Data columns (total 8 columns):\n",
      " #   Column           Non-Null Count  Dtype \n",
      "---  ------           --------------  ----- \n",
      " 0   state_name       52946 non-null  object\n",
      " 1   district_name    52946 non-null  object\n",
      " 2   disability_type  52946 non-null  object\n",
      " 3   age_lower        52946 non-null  int64 \n",
      " 4   age_upper        52946 non-null  int64 \n",
      " 5   Male_count       52946 non-null  int64 \n",
      " 6   female_count     52946 non-null  int64 \n",
      " 7   total            52946 non-null  int64 \n",
      "dtypes: int64(5), object(3)\n",
      "memory usage: 3.2+ MB\n"
     ]
    }
   ],
   "source": [
    "udiddata.info()"
   ]
  },
  {
   "cell_type": "code",
   "execution_count": 5,
   "id": "0e57f33d",
   "metadata": {},
   "outputs": [
    {
     "data": {
      "text/plain": [
       "Locomotor Disability               4173\n",
       "Hearing Impairment                 4024\n",
       "Blindness                          3856\n",
       "Low Vision                         3681\n",
       "Intellectual Disability            3575\n",
       "Multiple Disability                3422\n",
       "Mental Illness                     3400\n",
       "Cerebral Palsy                     3135\n",
       "Muscular Dystrophy                 2638\n",
       "Speech And Language Disability     2539\n",
       "Chronic Neurological Conditions    2291\n",
       "Autism Spectrum Disorder           2131\n",
       "Hemophilia                         2074\n",
       "Short Stature/Dwarfism             1969\n",
       "Leprosy Cured                      1922\n",
       "Thalassemia                        1778\n",
       "Multiple Sclerosis                 1524\n",
       "Parkinson'S Disease                1279\n",
       "Specific Learning Disabilities     1261\n",
       "Sickle Cell Disease                1160\n",
       "Acid Attack Victim                 1114\n",
       "Name: disability_type, dtype: int64"
      ]
     },
     "execution_count": 5,
     "metadata": {},
     "output_type": "execute_result"
    }
   ],
   "source": [
    "udiddata['disability_type'].value_counts()"
   ]
  },
  {
   "cell_type": "code",
   "execution_count": 6,
   "id": "200b3606",
   "metadata": {},
   "outputs": [
    {
     "name": "stdout",
     "output_type": "stream",
     "text": [
      "0        47.5\n",
      "1        70.0\n",
      "2        25.0\n",
      "3        47.5\n",
      "4        25.0\n",
      "         ... \n",
      "52941    10.5\n",
      "52942    25.0\n",
      "52943     3.0\n",
      "52944    10.5\n",
      "52945    25.0\n",
      "Length: 52946, dtype: float64\n"
     ]
    }
   ],
   "source": [
    "age = (udiddata['age_lower'] + udiddata['age_upper'])/ 2\n",
    "print(age)"
   ]
  },
  {
   "cell_type": "code",
   "execution_count": 6,
   "id": "a4d05f26",
   "metadata": {},
   "outputs": [],
   "source": [
    "df = pd.read_csv(\"UDIDDATA_change.csv\")"
   ]
  },
  {
   "cell_type": "code",
   "execution_count": 10,
   "id": "4dc7eea8",
   "metadata": {},
   "outputs": [
    {
     "name": "stdout",
     "output_type": "stream",
     "text": [
      "                    disability_type\n",
      "0                Acid Attack Victim\n",
      "1          Autism Spectrum Disorder\n",
      "2                         Blindness\n",
      "3                    Cerebral Palsy\n",
      "4   Chronic Neurological Conditions\n",
      "5                Hearing Impairment\n",
      "6                        Hemophilia\n",
      "7           Intellectual Disability\n",
      "8                     Leprosy Cured\n",
      "9              Locomotor Disability\n",
      "10                       Low Vision\n",
      "11                   Mental Illness\n",
      "12              Multiple Disability\n",
      "13               Multiple Sclerosis\n",
      "14               Muscular Dystrophy\n",
      "15              Parkinson'S Disease\n",
      "16           Short Stature/Dwarfism\n",
      "17              Sickle Cell Disease\n",
      "18   Specific Learning Disabilities\n",
      "19   Speech And Language Disability\n",
      "20                      Thalassemia\n",
      "*******************************************************************************************\n",
      "0        47.5\n",
      "1        70.0\n",
      "2        25.0\n",
      "3        47.5\n",
      "4        25.0\n",
      "         ... \n",
      "52941    10.5\n",
      "52942    25.0\n",
      "52943     3.0\n",
      "52944    10.5\n",
      "52945    25.0\n",
      "Length: 52946, dtype: float64\n",
      "*******************************************************************************************\n",
      "[0.02061411 0.03987912 0.07150181 0.05946792 0.04344072 0.07603475\n",
      " 0.03952836 0.06812908 0.03701905 0.07935352 0.06953214 0.06400086\n",
      " 0.06435163 0.02870865 0.04929577 0.02441854 0.03766661 0.02153149\n",
      " 0.02347418 0.04786574 0.03418596]\n"
     ]
    }
   ],
   "source": [
    "target_variable = \"disability_type\"\n",
    "class_labels = df[target_variable].unique()\n",
    "\n",
    "class_labels_df = pd.DataFrame(class_labels, columns=[\"disability_type\"])\n",
    "\n",
    "print(class_labels_df)\n",
    "print('*******************************************************************************************')\n",
    "\n",
    "#Average of age\n",
    "age_average = (df['age_lower']+df['age_upper'])/2\n",
    "print(age_average)\n",
    "print('*******************************************************************************************')\n",
    "\n",
    "\n",
    "from sklearn.model_selection import train_test_split\n",
    "from sklearn.naive_bayes import MultinomialNB\n",
    "from sklearn.metrics import classification_report\n",
    "\n",
    "#Training,testing datas\n",
    "X = age_average\n",
    "y = df['disability_type']\n",
    "\n",
    "X_train, X_test, y_train, y_test = train_test_split(X, y, test_size=0.3, random_state=42)\n",
    "\n",
    "#model using multinomial naive bayes\n",
    "nb_model = MultinomialNB()\n",
    "nb_model.fit(X_train.values.reshape(-1,1), y_train)\n",
    "\n",
    "prob_predict = nb_model.predict_proba(X_test.values.reshape(-1,1))\n",
    "print(prob_predict[0])"
   ]
  },
  {
   "cell_type": "code",
   "execution_count": 10,
   "id": "53105008",
   "metadata": {},
   "outputs": [
    {
     "data": {
      "text/plain": [
       "0.9999999999999998"
      ]
     },
     "execution_count": 10,
     "metadata": {},
     "output_type": "execute_result"
    }
   ],
   "source": [
    "np.sum(prob_predict[0])"
   ]
  },
  {
   "cell_type": "code",
   "execution_count": 17,
   "id": "7044c51b",
   "metadata": {},
   "outputs": [
    {
     "data": {
      "text/plain": [
       "0.07935351573039771"
      ]
     },
     "execution_count": 17,
     "metadata": {},
     "output_type": "execute_result"
    }
   ],
   "source": [
    "nb_model.score(X_train.values.reshape(-1,1), y_train)"
   ]
  },
  {
   "cell_type": "code",
   "execution_count": 19,
   "id": "13d60365",
   "metadata": {},
   "outputs": [
    {
     "ename": "ValueError",
     "evalue": "Classification metrics can't handle a mix of multiclass and continuous-multioutput targets",
     "output_type": "error",
     "traceback": [
      "\u001b[1;31m---------------------------------------------------------------------------\u001b[0m",
      "\u001b[1;31mValueError\u001b[0m                                Traceback (most recent call last)",
      "Cell \u001b[1;32mIn [19], line 1\u001b[0m\n\u001b[1;32m----> 1\u001b[0m cn \u001b[38;5;241m=\u001b[39m \u001b[43mconfusion_matrix\u001b[49m\u001b[43m(\u001b[49m\u001b[43my_test\u001b[49m\u001b[43m,\u001b[49m\u001b[43m \u001b[49m\u001b[43mprob_predict\u001b[49m\u001b[43m)\u001b[49m\n",
      "File \u001b[1;32m~\\anaconda3\\envs\\ml\\lib\\site-packages\\sklearn\\metrics\\_classification.py:307\u001b[0m, in \u001b[0;36mconfusion_matrix\u001b[1;34m(y_true, y_pred, labels, sample_weight, normalize)\u001b[0m\n\u001b[0;32m    222\u001b[0m \u001b[38;5;28;01mdef\u001b[39;00m \u001b[38;5;21mconfusion_matrix\u001b[39m(\n\u001b[0;32m    223\u001b[0m     y_true, y_pred, \u001b[38;5;241m*\u001b[39m, labels\u001b[38;5;241m=\u001b[39m\u001b[38;5;28;01mNone\u001b[39;00m, sample_weight\u001b[38;5;241m=\u001b[39m\u001b[38;5;28;01mNone\u001b[39;00m, normalize\u001b[38;5;241m=\u001b[39m\u001b[38;5;28;01mNone\u001b[39;00m\n\u001b[0;32m    224\u001b[0m ):\n\u001b[0;32m    225\u001b[0m \u001b[38;5;250m    \u001b[39m\u001b[38;5;124;03m\"\"\"Compute confusion matrix to evaluate the accuracy of a classification.\u001b[39;00m\n\u001b[0;32m    226\u001b[0m \n\u001b[0;32m    227\u001b[0m \u001b[38;5;124;03m    By definition a confusion matrix :math:`C` is such that :math:`C_{i, j}`\u001b[39;00m\n\u001b[1;32m   (...)\u001b[0m\n\u001b[0;32m    305\u001b[0m \u001b[38;5;124;03m    (0, 2, 1, 1)\u001b[39;00m\n\u001b[0;32m    306\u001b[0m \u001b[38;5;124;03m    \"\"\"\u001b[39;00m\n\u001b[1;32m--> 307\u001b[0m     y_type, y_true, y_pred \u001b[38;5;241m=\u001b[39m \u001b[43m_check_targets\u001b[49m\u001b[43m(\u001b[49m\u001b[43my_true\u001b[49m\u001b[43m,\u001b[49m\u001b[43m \u001b[49m\u001b[43my_pred\u001b[49m\u001b[43m)\u001b[49m\n\u001b[0;32m    308\u001b[0m     \u001b[38;5;28;01mif\u001b[39;00m y_type \u001b[38;5;129;01mnot\u001b[39;00m \u001b[38;5;129;01min\u001b[39;00m (\u001b[38;5;124m\"\u001b[39m\u001b[38;5;124mbinary\u001b[39m\u001b[38;5;124m\"\u001b[39m, \u001b[38;5;124m\"\u001b[39m\u001b[38;5;124mmulticlass\u001b[39m\u001b[38;5;124m\"\u001b[39m):\n\u001b[0;32m    309\u001b[0m         \u001b[38;5;28;01mraise\u001b[39;00m \u001b[38;5;167;01mValueError\u001b[39;00m(\u001b[38;5;124m\"\u001b[39m\u001b[38;5;132;01m%s\u001b[39;00m\u001b[38;5;124m is not supported\u001b[39m\u001b[38;5;124m\"\u001b[39m \u001b[38;5;241m%\u001b[39m y_type)\n",
      "File \u001b[1;32m~\\anaconda3\\envs\\ml\\lib\\site-packages\\sklearn\\metrics\\_classification.py:93\u001b[0m, in \u001b[0;36m_check_targets\u001b[1;34m(y_true, y_pred)\u001b[0m\n\u001b[0;32m     90\u001b[0m     y_type \u001b[38;5;241m=\u001b[39m {\u001b[38;5;124m\"\u001b[39m\u001b[38;5;124mmulticlass\u001b[39m\u001b[38;5;124m\"\u001b[39m}\n\u001b[0;32m     92\u001b[0m \u001b[38;5;28;01mif\u001b[39;00m \u001b[38;5;28mlen\u001b[39m(y_type) \u001b[38;5;241m>\u001b[39m \u001b[38;5;241m1\u001b[39m:\n\u001b[1;32m---> 93\u001b[0m     \u001b[38;5;28;01mraise\u001b[39;00m \u001b[38;5;167;01mValueError\u001b[39;00m(\n\u001b[0;32m     94\u001b[0m         \u001b[38;5;124m\"\u001b[39m\u001b[38;5;124mClassification metrics can\u001b[39m\u001b[38;5;124m'\u001b[39m\u001b[38;5;124mt handle a mix of \u001b[39m\u001b[38;5;132;01m{0}\u001b[39;00m\u001b[38;5;124m and \u001b[39m\u001b[38;5;132;01m{1}\u001b[39;00m\u001b[38;5;124m targets\u001b[39m\u001b[38;5;124m\"\u001b[39m\u001b[38;5;241m.\u001b[39mformat(\n\u001b[0;32m     95\u001b[0m             type_true, type_pred\n\u001b[0;32m     96\u001b[0m         )\n\u001b[0;32m     97\u001b[0m     )\n\u001b[0;32m     99\u001b[0m \u001b[38;5;66;03m# We can't have more than one value on y_type => The set is no more needed\u001b[39;00m\n\u001b[0;32m    100\u001b[0m y_type \u001b[38;5;241m=\u001b[39m y_type\u001b[38;5;241m.\u001b[39mpop()\n",
      "\u001b[1;31mValueError\u001b[0m: Classification metrics can't handle a mix of multiclass and continuous-multioutput targets"
     ]
    }
   ],
   "source": [
    "cn = confusion_matrix(y_test, prob_predict)"
   ]
  },
  {
   "cell_type": "code",
   "execution_count": 45,
   "id": "00028f9e",
   "metadata": {},
   "outputs": [
    {
     "name": "stdout",
     "output_type": "stream",
     "text": [
      "['Acid Attack Victim' 'Autism Spectrum Disorder' 'Blindness'\n",
      " 'Cerebral Palsy' 'Chronic Neurological Conditions' 'Hearing Impairment'\n",
      " 'Hemophilia' 'Intellectual Disability' 'Leprosy Cured'\n",
      " 'Locomotor Disability' 'Low Vision' 'Mental Illness'\n",
      " 'Multiple Disability' 'Multiple Sclerosis' 'Muscular Dystrophy'\n",
      " \"Parkinson'S Disease\" 'Short Stature/Dwarfism' 'Sickle Cell Disease'\n",
      " 'Specific Learning Disabilities' 'Speech And Language Disability'\n",
      " 'Thalassemia']\n"
     ]
    }
   ],
   "source": [
    "np.c_[y_test, prob_predict]\n",
    "print(class_labels)\n",
    "\n"
   ]
  },
  {
   "cell_type": "code",
   "execution_count": 49,
   "id": "34816e30",
   "metadata": {},
   "outputs": [
    {
     "data": {
      "text/plain": [
       "array([47.5, 70. , 25. , ...,  3. , 10.5, 25. ])"
      ]
     },
     "execution_count": 49,
     "metadata": {},
     "output_type": "execute_result"
    }
   ],
   "source": [
    "x = np.array(age)\n",
    "x"
   ]
  },
  {
   "cell_type": "code",
   "execution_count": 55,
   "id": "aea74e71",
   "metadata": {},
   "outputs": [
    {
     "data": {
      "text/plain": [
       "array([ 0,  0,  0, ..., 20, 20, 20])"
      ]
     },
     "execution_count": 55,
     "metadata": {},
     "output_type": "execute_result"
    }
   ],
   "source": [
    "from sklearn.preprocessing import LabelEncoder\n",
    "\n",
    "disablity_encoder = LabelEncoder()\n",
    "\n",
    "y_encoded = disablity_encoder.fit_transform(df[target_variable])\n",
    "y_encoded"
   ]
  },
  {
   "cell_type": "code",
   "execution_count": 88,
   "id": "d9cfb58a",
   "metadata": {},
   "outputs": [
    {
     "data": {
      "text/plain": [
       "array([9, 9, 9, ..., 9, 9, 9], dtype=int64)"
      ]
     },
     "execution_count": 88,
     "metadata": {},
     "output_type": "execute_result"
    }
   ],
   "source": [
    "max_col = (np.argmax(prob_predict, axis=1))\n",
    "max_col"
   ]
  },
  {
   "cell_type": "code",
   "execution_count": 89,
   "id": "fa67cfb8",
   "metadata": {},
   "outputs": [
    {
     "data": {
      "text/plain": [
       "(15884, 21)"
      ]
     },
     "execution_count": 89,
     "metadata": {},
     "output_type": "execute_result"
    }
   ],
   "source": [
    "prob_predict.shape"
   ]
  },
  {
   "cell_type": "code",
   "execution_count": 141,
   "id": "529a5972",
   "metadata": {},
   "outputs": [
    {
     "data": {
      "text/plain": [
       "9.0"
      ]
     },
     "execution_count": 141,
     "metadata": {},
     "output_type": "execute_result"
    }
   ],
   "source": [
    "np.mean(max_col)"
   ]
  },
  {
   "cell_type": "code",
   "execution_count": 153,
   "id": "335dbbee",
   "metadata": {},
   "outputs": [
    {
     "name": "stdout",
     "output_type": "stream",
     "text": [
      "False\n"
     ]
    }
   ],
   "source": [
    "all_same = all(np.array(prob_predict[0].all()) == np.array(x).all for x in prob_predict)\n",
    "print(all_same)"
   ]
  },
  {
   "cell_type": "code",
   "execution_count": 120,
   "id": "33edb9ae",
   "metadata": {},
   "outputs": [
    {
     "data": {
      "text/plain": [
       "array(['Locomotor Disability'], dtype='<U31')"
      ]
     },
     "execution_count": 120,
     "metadata": {},
     "output_type": "execute_result"
    }
   ],
   "source": [
    "nb_model.predict(X_train[10].reshape(-1,1))"
   ]
  },
  {
   "cell_type": "code",
   "execution_count": 123,
   "id": "04884813",
   "metadata": {},
   "outputs": [
    {
     "data": {
      "text/plain": [
       "'Acid Attack Victim'"
      ]
     },
     "execution_count": 123,
     "metadata": {},
     "output_type": "execute_result"
    }
   ],
   "source": [
    "y_train[10]"
   ]
  },
  {
   "cell_type": "code",
   "execution_count": 164,
   "id": "0fb23109",
   "metadata": {
    "scrolled": true
   },
   "outputs": [
    {
     "data": {
      "text/plain": [
       "<AxesSubplot:>"
      ]
     },
     "execution_count": 164,
     "metadata": {},
     "output_type": "execute_result"
    },
    {
     "data": {
      "image/png": "[encoded data removed]",
      "text/plain": [
       "<Figure size 640x480 with 1 Axes>"
      ]
     },
     "metadata": {},
     "output_type": "display_data"
    }
   ],
   "source": [
    "X_train.hist(bins=50)\n"
   ]
  },
  {
   "cell_type": "code",
   "execution_count": 165,
   "id": "42d6f859",
   "metadata": {},
   "outputs": [
    {
     "name": "stdout",
     "output_type": "stream",
     "text": [
      "15884 (15884, 21)\n"
     ]
    }
   ],
   "source": [
    "count = 0 \n",
    "for i in prob_predict:\n",
    "    if prob_predict[0].all() == i.all():\n",
    "        count += 1\n",
    "print(count, prob_predict.shape)"
   ]
  },
  {
   "cell_type": "code",
   "execution_count": 2,
   "id": "6ec9378e",
   "metadata": {
    "scrolled": true
   },
   "outputs": [
    {
     "ename": "NameError",
     "evalue": "name 'X_train' is not defined",
     "output_type": "error",
     "traceback": [
      "\u001b[1;31m---------------------------------------------------------------------------\u001b[0m",
      "\u001b[1;31mNameError\u001b[0m                                 Traceback (most recent call last)",
      "Cell \u001b[1;32mIn [2], line 4\u001b[0m\n\u001b[0;32m      1\u001b[0m fig, (ax1, ax2) \u001b[38;5;241m=\u001b[39m plt\u001b[38;5;241m.\u001b[39msubplots(\u001b[38;5;241m1\u001b[39m, \u001b[38;5;241m2\u001b[39m, figsize\u001b[38;5;241m=\u001b[39m(\u001b[38;5;241m10\u001b[39m, \u001b[38;5;241m4\u001b[39m))\n\u001b[0;32m      3\u001b[0m \u001b[38;5;66;03m# Create histograms for each dataset in the respective subplots\u001b[39;00m\n\u001b[1;32m----> 4\u001b[0m ax1\u001b[38;5;241m.\u001b[39mhist(\u001b[43mX_train\u001b[49m, bins\u001b[38;5;241m=\u001b[39m\u001b[38;5;241m20\u001b[39m, alpha\u001b[38;5;241m=\u001b[39m\u001b[38;5;241m0.5\u001b[39m, color\u001b[38;5;241m=\u001b[39m\u001b[38;5;124m'\u001b[39m\u001b[38;5;124mblue\u001b[39m\u001b[38;5;124m'\u001b[39m, label\u001b[38;5;241m=\u001b[39m\u001b[38;5;124m'\u001b[39m\u001b[38;5;124mage\u001b[39m\u001b[38;5;124m'\u001b[39m)\n\u001b[0;32m      5\u001b[0m ax2\u001b[38;5;241m.\u001b[39mhist(X_test, bins\u001b[38;5;241m=\u001b[39m\u001b[38;5;241m20\u001b[39m, alpha\u001b[38;5;241m=\u001b[39m\u001b[38;5;241m0.5\u001b[39m, color\u001b[38;5;241m=\u001b[39m\u001b[38;5;124m'\u001b[39m\u001b[38;5;124mred\u001b[39m\u001b[38;5;124m'\u001b[39m, label\u001b[38;5;241m=\u001b[39m\u001b[38;5;124m'\u001b[39m\u001b[38;5;124mage\u001b[39m\u001b[38;5;124m'\u001b[39m)\n\u001b[0;32m      7\u001b[0m \u001b[38;5;66;03m# Add labels and legends to each subplot\u001b[39;00m\n",
      "\u001b[1;31mNameError\u001b[0m: name 'X_train' is not defined"
     ]
    },
    {
     "data": {
      "image/png": "[encoded data removed]",
      "text/plain": [
       "<Figure size 1000x400 with 2 Axes>"
      ]
     },
     "metadata": {},
     "output_type": "display_data"
    }
   ],
   "source": [
    "fig, (ax1, ax2) = plt.subplots(1, 2, figsize=(10, 4))\n",
    "\n",
    "# Create histograms for each dataset in the respective subplots\n",
    "ax1.hist(X_train, bins=20, alpha=0.5, color='blue', label='age')\n",
    "ax2.hist(X_test, bins=20, alpha=0.5, color='red', label='age')\n",
    "\n",
    "# Add labels and legends to each subplot\n",
    "ax1.set_title('Training Set')\n",
    "ax1.set_xlabel('Age')\n",
    "ax1.set_ylabel('Frequency')\n",
    "ax1.legend()\n",
    "ax2.set_title('Test Set')accuracy\n",
    "\n",
    "ax2.set_xlabel('Age')\n",
    "ax2.set_ylabel('Frequency')\n",
    "ax2.legend()\n",
    "\n",
    "# Adjust layout and spacing\n",
    "plt.tight_layout()\n",
    "\n",
    "# Display the plot\n",
    "plt.show()\n"
   ]
  },
  {
   "cell_type": "code",
   "execution_count": 2,
   "id": "53a8d6f2",
   "metadata": {},
   "outputs": [
    {
     "name": "stdout",
     "output_type": "stream",
     "text": [
      "hello\n"
     ]
    }
   ],
   "source": [
    "print('hello')"
   ]
  },
  {
   "cell_type": "code",
   "execution_count": 3,
   "id": "22f18670",
   "metadata": {},
   "outputs": [],
   "source": [
    "from sklearn.metrics import accuracy_score as score\n"
   ]
  },
  {
   "cell_type": "code",
   "execution_count": 5,
   "id": "01ecdc8f",
   "metadata": {},
   "outputs": [
    {
     "ename": "NameError",
     "evalue": "name 'model' is not defined",
     "output_type": "error",
     "traceback": [
      "\u001b[1;31m---------------------------------------------------------------------------\u001b[0m",
      "\u001b[1;31mNameError\u001b[0m                                 Traceback (most recent call last)",
      "Cell \u001b[1;32mIn [5], line 1\u001b[0m\n\u001b[1;32m----> 1\u001b[0m ypred\u001b[38;5;241m=\u001b[39m\u001b[43mmodel\u001b[49m\u001b[38;5;241m.\u001b[39mpredict(X_test)\n\u001b[0;32m      2\u001b[0m \u001b[38;5;28mprint\u001b[39m(score(y_test,ypred))\n",
      "\u001b[1;31mNameError\u001b[0m: name 'model' is not defined"
     ]
    }
   ],
   "source": [
    "ypred=model.predict(X_test)\n",
    "print(score(y_test,ypred))"
   ]
  },
  {
   "cell_type": "code",
   "execution_count": 19,
   "id": "0baf5aee",
   "metadata": {},
   "outputs": [],
   "source": [
    "from sklearn.preprocessing import PolynomialFeatures \n",
    "\n",
    "from sklearn.metrics import mean_squared_error \n",
    "# Initialize lists containing the lists, models, and scalers\n",
    "train_mses = []\n",
    "cv_mses = []\n",
    "models = []\n",
    "scalers = []\n",
    "scores = []\n",
    "# X_train = X_train.values.reshape(-1,1)\n",
    "# Loop over 10 times. Each adding one more degree of polynomial higher than the last.\n",
    "for degree in range(1,11):\n",
    "    \n",
    "    # Add polynomial features to the training set\n",
    "    poly = PolynomialFeatures(degree, include_bias=False)\n",
    "    X_train_mapped = poly.fit_transform(X_train)\n",
    "    \n",
    "    # Scale the training set\n",
    "#     scaler_poly = StandardScaler()\n",
    "#     X_train_mapped_scaled = scaler_poly.fit_transform(X_train_mapped)\n",
    "#     scalers.append(scaler_poly)\n",
    "    \n",
    "    # Create and train the model\n",
    "#     model = LinearRegression()\n",
    "#     model.fit(X_train_mapped_scaled, y_train )\n",
    "    model = MultinomialNB()\n",
    "    model.fit(X_train, y_train)\n",
    "    models.append(model)\n",
    "    \n",
    "    # Compute the training MSE\n",
    "    yhat = model.predict(X_train)\n",
    "    scores.append(model.score(X_train, y_train))\n",
    "#     train_mse = mean_squared_error(y_train, yhat) / 2\n",
    "#     train_mses.append(train_mse)\n",
    "    \n",
    "    # Add polynomial features and scale the cross validation set\n",
    "#     poly = PolynomialFeatures(degree, include_bias=False)\n",
    "#     X_cv_mapped = poly.fit_transform(x_cv)\n",
    "#     X_cv_mapped_scaled = scaler_poly.transform(X_cv_mapped)\n",
    "    \n",
    "    # Compute the cross validation MSE\n",
    "#     yhat = model.predict(X_cv_mapped_scaled)\n",
    "#     cv_mse = mean_squared_error(y_cv, yhat) / 2\n",
    "#     cv_mses.append(cv_mse)\n",
    "    \n",
    "# Plot the results\n",
    "# degrees=range(1,11)\n",
    "# utils.plot_train_cv_mses(degrees, train_mses, cv_mses, title=\"degree of polynomial vs. train and CV MSEs\")"
   ]
  },
  {
   "cell_type": "code",
   "execution_count": 33,
   "id": "4e7afc15",
   "metadata": {},
   "outputs": [
    {
     "data": {
      "text/plain": [
       "array(['Locomotor Disability'], dtype='<U31')"
      ]
     },
     "execution_count": 33,
     "metadata": {},
     "output_type": "execute_result"
    }
   ],
   "source": [
    "models[9].predict(X_train[459].reshape(-1,1))"
   ]
  },
  {
   "cell_type": "code",
   "execution_count": 49,
   "id": "da4340db",
   "metadata": {},
   "outputs": [
    {
     "name": "stdout",
     "output_type": "stream",
     "text": [
      "Uttar Pradesh                           6647\n",
      "Madhya Pradesh                          4480\n",
      "Bihar                                   3426\n",
      "Tamil Nadu                              3301\n",
      "Maharashtra                             3136\n",
      "Karnataka                               2835\n",
      "Odisha                                  2811\n",
      "Rajasthan                               2667\n",
      "Assam                                   2287\n",
      "Gujarat                                 2241\n",
      "Chhattisgarh                            2116\n",
      "Punjab                                  2069\n",
      "Jharkhand                               2048\n",
      "Jammu And Kashmir                       1698\n",
      "Haryana                                 1679\n",
      "Kerala                                  1222\n",
      "Uttarakhand                             1022\n",
      "Himachal Pradesh                         879\n",
      "Telangana                                819\n",
      "Delhi                                    759\n",
      "Andhra Pradesh                           674\n",
      "Manipur                                  673\n",
      "Meghalaya                                604\n",
      "Arunachal Pradesh                        449\n",
      "Mizoram                                  415\n",
      "Tripura                                  392\n",
      "Nagaland                                 325\n",
      "Puducherry                               221\n",
      "Sikkim                                   205\n",
      "Andaman And Nicobar Islands              196\n",
      "Dadra Nagar Haveli And Daman And Diu     148\n",
      "Goa                                      144\n",
      "Ladakh                                   111\n",
      "West Bengal                              107\n",
      "Chandigarh                                91\n",
      "Lakshadweep                               49\n",
      "Name: state_name, dtype: int64\n",
      "Number of states 36\n"
     ]
    }
   ],
   "source": [
    "print(df['state_name'].value_counts())\n",
    "print(\"Number of states\",df['state_name'].nunique())"
   ]
  },
  {
   "cell_type": "code",
   "execution_count": 51,
   "id": "927f44a5",
   "metadata": {},
   "outputs": [
    {
     "name": "stdout",
     "output_type": "stream",
     "text": [
      "Hamirpur          180\n",
      "Pratapgarh        179\n",
      "Balrampur         171\n",
      "Aurangabad        164\n",
      "Bilaspur          159\n",
      "                 ... \n",
      "Dinajpur Uttar      1\n",
      "Nandyal             1\n",
      "Noklak              1\n",
      "Maldah              1\n",
      "Kra Daadi           1\n",
      "Name: district_name, Length: 734, dtype: int64\n",
      "Number of district 734\n"
     ]
    }
   ],
   "source": [
    "print(df['district_name'].value_counts())\n",
    "print(\"Number of district\",df['district_name'].nunique())"
   ]
  },
  {
   "cell_type": "code",
   "execution_count": 53,
   "id": "0b33e954",
   "metadata": {},
   "outputs": [],
   "source": [
    "from sklearn.preprocessing import LabelEncoder\n",
    "\n",
    "label_encoder = LabelEncoder()\n",
    "\n",
    "state_encoded = label_encoder.fit_transform(df['state_name'])\n"
   ]
  },
  {
   "cell_type": "code",
   "execution_count": 57,
   "id": "5a81fa24",
   "metadata": {},
   "outputs": [
    {
     "data": {
      "text/plain": [
       "array([ 0,  1,  2,  3,  4,  5,  6,  7,  8,  9, 10, 11, 12, 13, 14, 15, 16,\n",
       "       17, 18, 19, 20, 21, 22, 23, 24, 25, 26, 27, 28, 29, 30, 31, 32, 33,\n",
       "       34, 35])"
      ]
     },
     "execution_count": 57,
     "metadata": {},
     "output_type": "execute_result"
    }
   ],
   "source": [
    "np.unique(state_encoded)"
   ]
  },
  {
   "cell_type": "code",
   "execution_count": 64,
   "id": "9ced14e3",
   "metadata": {},
   "outputs": [
    {
     "data": {
      "text/plain": [
       "array(['Tamil Nadu'], dtype=object)"
      ]
     },
     "execution_count": 64,
     "metadata": {},
     "output_type": "execute_result"
    }
   ],
   "source": [
    "label_encoder.inverse_transform([30])"
   ]
  },
  {
   "cell_type": "code",
   "execution_count": 78,
   "id": "d5c0de4d",
   "metadata": {},
   "outputs": [],
   "source": [
    "import numpy as np\n",
    "\n",
    "array1 = age_average\n",
    "array2 = state_encoded\n",
    "\n",
    "merged_array = np.column_stack((array1, array2))\n",
    "\n"
   ]
  },
  {
   "cell_type": "code",
   "execution_count": 86,
   "id": "18da6d2c",
   "metadata": {},
   "outputs": [],
   "source": [
    "x_trains, x_tests, y_trains, y_tests = train_test_split(merged_array, y, test_size=0.3 ,stratify=merged_array[:,], random_state=42)"
   ]
  },
  {
   "cell_type": "code",
   "execution_count": 92,
   "id": "964f9626",
   "metadata": {},
   "outputs": [
    {
     "data": {
      "text/html": [
       "<style>#sk-container-id-1 {color: black;background-color: white;}#sk-container-id-1 pre{padding: 0;}#sk-container-id-1 div.sk-toggleable {background-color: white;}#sk-container-id-1 label.sk-toggleable__label {cursor: pointer;display: block;width: 100%;margin-bottom: 0;padding: 0.3em;box-sizing: border-box;text-align: center;}#sk-container-id-1 label.sk-toggleable__label-arrow:before {content: \"▸\";float: left;margin-right: 0.25em;color: #696969;}#sk-container-id-1 label.sk-toggleable__label-arrow:hover:before {color: black;}#sk-container-id-1 div.sk-estimator:hover label.sk-toggleable__label-arrow:before {color: black;}#sk-container-id-1 div.sk-toggleable__content {max-height: 0;max-width: 0;overflow: hidden;text-align: left;background-color: #f0f8ff;}#sk-container-id-1 div.sk-toggleable__content pre {margin: 0.2em;color: black;border-radius: 0.25em;background-color: #f0f8ff;}#sk-container-id-1 input.sk-toggleable__control:checked~div.sk-toggleable__content {max-height: 200px;max-width: 100%;overflow: auto;}#sk-container-id-1 input.sk-toggleable__control:checked~label.sk-toggleable__label-arrow:before {content: \"▾\";}#sk-container-id-1 div.sk-estimator input.sk-toggleable__control:checked~label.sk-toggleable__label {background-color: #d4ebff;}#sk-container-id-1 div.sk-label input.sk-toggleable__control:checked~label.sk-toggleable__label {background-color: #d4ebff;}#sk-container-id-1 input.sk-hidden--visually {border: 0;clip: rect(1px 1px 1px 1px);clip: rect(1px, 1px, 1px, 1px);height: 1px;margin: -1px;overflow: hidden;padding: 0;position: absolute;width: 1px;}#sk-container-id-1 div.sk-estimator {font-family: monospace;background-color: #f0f8ff;border: 1px dotted black;border-radius: 0.25em;box-sizing: border-box;margin-bottom: 0.5em;}#sk-container-id-1 div.sk-estimator:hover {background-color: #d4ebff;}#sk-container-id-1 div.sk-parallel-item::after {content: \"\";width: 100%;border-bottom: 1px solid gray;flex-grow: 1;}#sk-container-id-1 div.sk-label:hover label.sk-toggleable__label {background-color: #d4ebff;}#sk-container-id-1 div.sk-serial::before {content: \"\";position: absolute;border-left: 1px solid gray;box-sizing: border-box;top: 0;bottom: 0;left: 50%;z-index: 0;}#sk-container-id-1 div.sk-serial {display: flex;flex-direction: column;align-items: center;background-color: white;padding-right: 0.2em;padding-left: 0.2em;position: relative;}#sk-container-id-1 div.sk-item {position: relative;z-index: 1;}#sk-container-id-1 div.sk-parallel {display: flex;align-items: stretch;justify-content: center;background-color: white;position: relative;}#sk-container-id-1 div.sk-item::before, #sk-container-id-1 div.sk-parallel-item::before {content: \"\";position: absolute;border-left: 1px solid gray;box-sizing: border-box;top: 0;bottom: 0;left: 50%;z-index: -1;}#sk-container-id-1 div.sk-parallel-item {display: flex;flex-direction: column;z-index: 1;position: relative;background-color: white;}#sk-container-id-1 div.sk-parallel-item:first-child::after {align-self: flex-end;width: 50%;}#sk-container-id-1 div.sk-parallel-item:last-child::after {align-self: flex-start;width: 50%;}#sk-container-id-1 div.sk-parallel-item:only-child::after {width: 0;}#sk-container-id-1 div.sk-dashed-wrapped {border: 1px dashed gray;margin: 0 0.4em 0.5em 0.4em;box-sizing: border-box;padding-bottom: 0.4em;background-color: white;}#sk-container-id-1 div.sk-label label {font-family: monospace;font-weight: bold;display: inline-block;line-height: 1.2em;}#sk-container-id-1 div.sk-label-container {text-align: center;}#sk-container-id-1 div.sk-container {/* jupyter's `normalize.less` sets `[hidden] { display: none; }` but bootstrap.min.css set `[hidden] { display: none !important; }` so we also need the `!important` here to be able to override the default hidden behavior on the sphinx rendered scikit-learn.org. See: https://github.com/scikit-learn/scikit-learn/issues/21755 */display: inline-block !important;position: relative;}#sk-container-id-1 div.sk-text-repr-fallback {display: none;}</style><div id=\"sk-container-id-1\" class=\"sk-top-container\"><div class=\"sk-text-repr-fallback\"><pre>MultinomialNB()</pre><b>In a Jupyter environment, please rerun this cell to show the HTML representation or trust the notebook. <br />On GitHub, the HTML representation is unable to render, please try loading this page with nbviewer.org.</b></div><div class=\"sk-container\" hidden><div class=\"sk-item\"><div class=\"sk-estimator sk-toggleable\"><input class=\"sk-toggleable__control sk-hidden--visually\" id=\"sk-estimator-id-1\" type=\"checkbox\" checked><label for=\"sk-estimator-id-1\" class=\"sk-toggleable__label sk-toggleable__label-arrow\">MultinomialNB</label><div class=\"sk-toggleable__content\"><pre>MultinomialNB()</pre></div></div></div></div></div>"
      ],
      "text/plain": [
       "MultinomialNB()"
      ]
     },
     "execution_count": 92,
     "metadata": {},
     "output_type": "execute_result"
    }
   ],
   "source": [
    "new_model = MultinomialNB()\n",
    "new_model.fit(x_trains, y_trains)\n"
   ]
  },
  {
   "cell_type": "code",
   "execution_count": 93,
   "id": "61a3722d",
   "metadata": {},
   "outputs": [
    {
     "data": {
      "text/plain": [
       "19974            Intellectual Disability\n",
       "11331    Chronic Neurological Conditions\n",
       "5846                           Blindness\n",
       "43908                Parkinson'S Disease\n",
       "6731                           Blindness\n",
       "                      ...               \n",
       "8220                      Cerebral Palsy\n",
       "20810            Intellectual Disability\n",
       "30420                         Low Vision\n",
       "4127                           Blindness\n",
       "1879            Autism Spectrum Disorder\n",
       "Name: disability_type, Length: 15884, dtype: object"
      ]
     },
     "execution_count": 93,
     "metadata": {},
     "output_type": "execute_result"
    }
   ],
   "source": [
    "y_tests"
   ]
  },
  {
   "cell_type": "code",
   "execution_count": 103,
   "id": "a5123ca9",
   "metadata": {},
   "outputs": [
    {
     "data": {
      "text/plain": [
       "array(['Locomotor Disability', 'Locomotor Disability'], dtype='<U31')"
      ]
     },
     "execution_count": 103,
     "metadata": {},
     "output_type": "execute_result"
    }
   ],
   "source": [
    "model.predict(x_trains[2000].reshape(-1,1))"
   ]
  }
 ],
 "metadata": {
  "kernelspec": {
   "display_name": "Python 3 (ipykernel)",
   "language": "python",
   "name": "python3"
  },
  "language_info": {
   "codemirror_mode": {
    "name": "ipython",
    "version": 3
   },
   "file_extension": ".py",
   "mimetype": "text/x-python",
   "name": "python",
   "nbconvert_exporter": "python",
   "pygments_lexer": "ipython3",
   "version": "3.10.12"
  }
 },
 "nbformat": 4,
 "nbformat_minor": 5
}
