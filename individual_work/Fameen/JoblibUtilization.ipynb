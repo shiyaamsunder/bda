{
 "cells": [
  {
   "cell_type": "code",
   "execution_count": 41,
   "id": "ec0da291",
   "metadata": {},
   "outputs": [],
   "source": [
    "import joblib\n",
    "import pandas as pd\n",
    "\n",
    "df = pd.read_csv('processed.csv')\n",
    "#inputs to take\n",
    "attr = [['TAMIL NADU', 'Rural', '0-14']]\n",
    "#filtering for respective population \n",
    "filtered_df = df[\n",
    "    (df['Area Name'] == attr[0][0]) &\n",
    "    (df['Total/ Rural/Urban'] == attr[0][1]) &\n",
    "    (df['Age-group'] == attr[0][2])\n",
    "]\n",
    "#summing up the respective population\n",
    "population = sum(filtered_df['Total disabled population - Persons'])\n",
    "#onehot encoder for inputs\n",
    "cat_coder = joblib.load('cat_coder.joblib')\n",
    "#model\n",
    "voting_clf = joblib.load('disability_model.joblib')"
   ]
  },
  {
   "cell_type": "code",
   "execution_count": 42,
   "id": "4aea9b5b",
   "metadata": {},
   "outputs": [
    {
     "name": "stderr",
     "output_type": "stream",
     "text": [
      "C:\\Users\\fameen97\\anaconda3\\envs\\ml\\lib\\site-packages\\sklearn\\base.py:450: UserWarning: X does not have valid feature names, but OneHotEncoder was fitted with feature names\n",
      "  warnings.warn(\n"
     ]
    }
   ],
   "source": [
    "#transforming the inputs\n",
    "data = cat_coder.transform([['TAMIL NADU', 'Rural', '0-14']]).toarray()\n",
    "#append the population to the inputs\n",
    "data = np.append(data,population)\n",
    "#predict the output\n",
    "a = voting_clf.predict([data])"
   ]
  },
  {
   "cell_type": "code",
   "execution_count": 43,
   "id": "2f995c3b",
   "metadata": {},
   "outputs": [
    {
     "data": {
      "text/plain": [
       "array(['Any-Other'], dtype=object)"
      ]
     },
     "execution_count": 43,
     "metadata": {},
     "output_type": "execute_result"
    }
   ],
   "source": [
    "#load the label transformer for output\n",
    "label_transformer = joblib.load('label_transformer.joblib')\n",
    "#inverse the numerical output to string\n",
    "label_transformer.inverse_transform(a)"
   ]
  },
  {
   "cell_type": "code",
   "execution_count": null,
   "id": "c6a90163",
   "metadata": {},
   "outputs": [],
   "source": []
  }
 ],
 "metadata": {
  "kernelspec": {
   "display_name": "Python 3 (ipykernel)",
   "language": "python",
   "name": "python3"
  },
  "language_info": {
   "codemirror_mode": {
    "name": "ipython",
    "version": 3
   },
   "file_extension": ".py",
   "mimetype": "text/x-python",
   "name": "python",
   "nbconvert_exporter": "python",
   "pygments_lexer": "ipython3",
   "version": "3.10.12"
  }
 },
 "nbformat": 4,
 "nbformat_minor": 5
}
